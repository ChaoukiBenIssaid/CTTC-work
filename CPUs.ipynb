{
 "cells": [
  {
   "cell_type": "markdown",
   "metadata": {},
   "source": [
    "In this notebook, we will quantify the running time of each strategy (except the ML strategy which will be measured in a different notebook). We will be using the same system parameters and we will measure the time for a single case scenario, i.e. for a given channel matrix **H** and power matrix **P**, how much time in seconds will it take to generate the sets of users belonging to group 1 and group 2, respectively. "
   ]
  },
  {
   "cell_type": "markdown",
   "metadata": {},
   "source": [
    "We start by recalling the parameters of the system model."
   ]
  },
  {
   "cell_type": "code",
   "execution_count": 1,
   "metadata": {},
   "outputs": [],
   "source": [
    "N = 4 # number of antennas in the BS\n",
    "K = 10 # number of users (K >= N)\n",
    "X0 = 0.500 # parameter of the uniform distribution of the user on the x-axis\n",
    "Y0 = 0.500 # parameter of the uniform distribution of the user on the y-axis\n",
    "nsize = 10000 # size of the dataset"
   ]
  },
  {
   "cell_type": "code",
   "execution_count": 2,
   "metadata": {},
   "outputs": [],
   "source": [
    "from itertools import product, combinations\n",
    "import numpy as np\n",
    "from numpy.linalg import inv\n",
    "import h5py\n",
    "import pandas as pd\n",
    "from PIL import Image\n",
    "from numpy import linalg as LA\n",
    "import os\n",
    "from sklearn.model_selection import train_test_split\n",
    "from PIL import Image\n",
    "from matplotlib.pyplot import imshow\n",
    "import seaborn as sns\n",
    "from sklearn import metrics\n",
    "from IPython.display import clear_output\n",
    "%matplotlib inline\n",
    "np.random.seed(42)"
   ]
  },
  {
   "cell_type": "markdown",
   "metadata": {},
   "source": [
    "Now, we will read the matrices **H** and **P** from the test set (stored in the `test_Data` folder)."
   ]
  },
  {
   "cell_type": "code",
   "execution_count": 3,
   "metadata": {},
   "outputs": [],
   "source": [
    "with h5py.File('test_Data/H_1.h5', 'r') as hf:\n",
    "    H = hf['H_1'][:]\n",
    "with h5py.File('test_Data/P_1.h5', 'r') as hf:\n",
    "    P = hf['P_1'][:]"
   ]
  },
  {
   "cell_type": "code",
   "execution_count": 4,
   "metadata": {},
   "outputs": [
    {
     "data": {
      "text/plain": [
       "array([[ 1.        +0.j        ,  1.        +0.j        ,\n",
       "         1.        +0.j        ,  1.        +0.j        ,\n",
       "         1.        +0.j        ,  1.        +0.j        ,\n",
       "         1.        +0.j        ,  1.        +0.j        ,\n",
       "         1.        +0.j        ,  1.        +0.j        ],\n",
       "       [-0.94840597-0.31705854j, -0.99435984+0.10605902j,\n",
       "         0.30158506+0.95343928j, -0.95887464-0.28382993j,\n",
       "         0.21130964-0.97741917j,  0.27610195+0.96112836j,\n",
       "        -0.32671863-0.94512165j, -0.58449918-0.8113943j ,\n",
       "        -0.40006207-0.91648805j, -0.986151  -0.16584992j],\n",
       "       [ 0.79894777+0.60140042j,  0.97750297-0.21092166j,\n",
       "        -0.81809291+0.57508608j,  0.83888114+0.54431464j,\n",
       "        -0.91069647-0.41307619j, -0.84753543+0.53073882j,\n",
       "        -0.78650987+0.61757771j, -0.31672141+0.94851861j,\n",
       "        -0.67990068+0.73330421j,  0.94498761+0.32710613j],\n",
       "       [-0.56704769-0.82368496j, -0.94961955+0.31340504j,\n",
       "        -0.79503425-0.60656454j, -0.64988907-0.76002908j,\n",
       "        -0.59618753+0.80284521j, -0.74411431-0.66805231j,\n",
       "         0.84065349+0.54157337j,  0.95474599-0.29742241j,\n",
       "         0.94406702+0.32975365j, -0.87764995-0.47930216j]])"
      ]
     },
     "execution_count": 4,
     "metadata": {},
     "output_type": "execute_result"
    }
   ],
   "source": [
    "H"
   ]
  },
  {
   "cell_type": "markdown",
   "metadata": {},
   "source": [
    "The matrix **P** is stored as a whole matrix whereas in the code used to determine the strategies, we only need the diagonal elements, i.e. **P** is treated as a vector."
   ]
  },
  {
   "cell_type": "code",
   "execution_count": 5,
   "metadata": {},
   "outputs": [],
   "source": [
    "P = np.diag(P)"
   ]
  },
  {
   "cell_type": "code",
   "execution_count": 6,
   "metadata": {},
   "outputs": [
    {
     "data": {
      "text/plain": [
       "array([2.29947332e+00, 1.67157783e+04, 2.57658818e+02, 8.23618109e+02,\n",
       "       5.37619507e+02, 6.21853995e+00, 3.86499865e+01, 1.68015618e+01,\n",
       "       7.49921433e+01, 1.31926327e+02])"
      ]
     },
     "execution_count": 6,
     "metadata": {},
     "output_type": "execute_result"
    }
   ],
   "source": [
    "P"
   ]
  },
  {
   "cell_type": "markdown",
   "metadata": {},
   "source": [
    "# 1. Exhaustive Search"
   ]
  },
  {
   "cell_type": "markdown",
   "metadata": {},
   "source": [
    "The first strategy to time is the exhaustive search, we recall the functions used to compute the set of users of group 1 and group 2."
   ]
  },
  {
   "cell_type": "code",
   "execution_count": 7,
   "metadata": {},
   "outputs": [],
   "source": [
    "def clusters(A):\n",
    "    subsets = []\n",
    "    for i in range(1, len(A)):\n",
    "        subsets.append(list(combinations(A,i)))\n",
    "    combos = []\n",
    "    for i in range(1, int(1+len(subsets)/2)):\n",
    "        combos.extend(list(product(subsets[i-1], subsets[-i])))\n",
    "    if not len(A) % 2:\n",
    "        combos.extend(list(combinations(subsets[int(len(A)/2)-1], 2)))\n",
    "    return [combo for combo in combos if not set(combo[0]) & set(combo[1])]"
   ]
  },
  {
   "cell_type": "code",
   "execution_count": 8,
   "metadata": {},
   "outputs": [],
   "source": [
    "def hermetian(H):\n",
    "    return H.conj().T"
   ]
  },
  {
   "cell_type": "code",
   "execution_count": 9,
   "metadata": {},
   "outputs": [],
   "source": [
    "def SNR1(H, P, sigma, i):\n",
    "    K = H.shape[1]\n",
    "    N = H.shape[0]\n",
    "    P_i= P[i]\n",
    "    h_i = H[:,i][:, np.newaxis]\n",
    "    P = np.delete(P, i)\n",
    "    set_minus_i = list(range(K))\n",
    "    set_minus_i.pop(i)\n",
    "    SNR = P_i*hermetian(h_i).dot(inv(H[:,set_minus_i].dot(np.diag(P)).dot(hermetian(H[:,set_minus_i])) + sigma**2*np.identity(N))).dot(h_i)\n",
    "    return SNR.real"
   ]
  },
  {
   "cell_type": "code",
   "execution_count": null,
   "metadata": {},
   "outputs": [],
   "source": [
    "def SNR2(H, P, sigma, i, set_I1):\n",
    "    K = H.shape[1]\n",
    "    N = H.shape[0]\n",
    "    P_i= P[i]\n",
    "    set_0 = set_I1 + [i]\n",
    "    h_i = H[:,i][:, np.newaxis]\n",
    "    P = np.delete(P, set_0)\n",
    "    set_minus_i = list(range(K))\n",
    "    set_minus_i = [j for j in set_minus_i if j not in set_0]\n",
    "    SNR = P_i*hermetian(h_i).dot(inv(H[:,set_minus_i].dot(np.diag(P)).dot(hermetian(H[:,set_minus_i])) + sigma**2*np.identity(N))).dot(h_i)\n",
    "    return SNR.real"
   ]
  },
  {
   "cell_type": "code",
   "execution_count": null,
   "metadata": {},
   "outputs": [],
   "source": [
    "def labelling(N, K, H, P):\n",
    "    sigma=1\n",
    "    A = set(range(K))\n",
    "    set_total = clusters(A)\n",
    "    set_total.append((tuple(A),()))\n",
    "    set_1 = [list(set_total[i][0]) for i in range(2**(K-1))]\n",
    "    set_2 = [list(set_total[i][1]) for i in range(2**(K-1))]\n",
    "    set_I1 = set_1 + set_2\n",
    "    set_I2 = set_2 + set_1\n",
    "    R_1 = np.zeros(2**K)\n",
    "    R_2 = np.zeros(2**K)\n",
    "    for i in range(2**K): #each possible scenario\n",
    "        SNR_1 = [SNR1(H, P, sigma, s) for s in set_I1[i]] # SNR_i^(1) for i in I_1\n",
    "        SNR_2 = [SNR2(H, P, sigma, s, set_I1[i]) for s in set_I2[i]] # SNR_i^(2) for i in I_2\n",
    "        R_1[i] = np.sum(np.log(1+np.array(SNR_1)))\n",
    "        R_2[i] = np.sum(np.log(1+np.array(SNR_2)))\n",
    "    # define the criterion to select the best configuration (max(R1 + R2) or fairness: max(min(R1,R2)) or max R1*R2)\n",
    "    sum_rate = R_1 + R_2\n",
    "    best_index = np.argmax(sum_rate)\n",
    "    return set_I1[best_index], set_I2[best_index]"
   ]
  },
  {
   "cell_type": "markdown",
   "metadata": {},
   "source": [
    "Now, we will use the time package to time how much time will it take to find the users of both groups using exhaustive search."
   ]
  },
  {
   "cell_type": "code",
   "execution_count": null,
   "metadata": {},
   "outputs": [],
   "source": [
    "import time\n",
    "total = []\n",
    "for i in range(10):\n",
    "    t0 = time.time()\n",
    "    set0, set1 = labelling(N, K, H, P)\n",
    "    t1 = time.time()\n",
    "    total.append(t1-t0)"
   ]
  },
  {
   "cell_type": "code",
   "execution_count": null,
   "metadata": {},
   "outputs": [],
   "source": [
    "sum(total)/10"
   ]
  },
  {
   "cell_type": "markdown",
   "metadata": {},
   "source": [
    "# 2. SNR strategies"
   ]
  },
  {
   "cell_type": "markdown",
   "metadata": {},
   "source": [
    "For the SNR strategy, we are showing one strategy here but simply modifying the code to take into consideration the other stratgeies will lead to similar CPU time."
   ]
  },
  {
   "cell_type": "code",
   "execution_count": null,
   "metadata": {},
   "outputs": [],
   "source": [
    "def snr_labelling(N, K, H, P):\n",
    "    power = []\n",
    "    for i in range(K):\n",
    "        h_i = H[:,i][:, np.newaxis]\n",
    "        P_i = P[i]\n",
    "        power.append(LA.norm(h_i)**2*P_i)\n",
    "        \n",
    "    s = sorted(range(len(power)), key=lambda k: power[k])\n",
    "                           \n",
    "    set0 = [s[i] for i in range(int(len(s)/2))]\n",
    "    set1 = [s[i] for i in range(int(len(s)/2), len(s))]\n",
    "    return set0, set1"
   ]
  },
  {
   "cell_type": "code",
   "execution_count": null,
   "metadata": {},
   "outputs": [],
   "source": [
    "total = []\n",
    "for i in range(10):\n",
    "    t0 = time.time()\n",
    "    set0, set1 = snr_labelling(N, K, H, P)\n",
    "    t1 = time.time()\n",
    "    total.append(t1-t0)"
   ]
  },
  {
   "cell_type": "code",
   "execution_count": null,
   "metadata": {},
   "outputs": [],
   "source": [
    "sum(total)/10"
   ]
  },
  {
   "cell_type": "markdown",
   "metadata": {},
   "source": [
    "# 3. Random strategy"
   ]
  },
  {
   "cell_type": "markdown",
   "metadata": {},
   "source": [
    "Finally, we time the random strategy."
   ]
  },
  {
   "cell_type": "code",
   "execution_count": null,
   "metadata": {},
   "outputs": [],
   "source": [
    "import random \n",
    "def partition(list_in, n):\n",
    "    random.shuffle(list_in)\n",
    "    l = [list_in[i::n] for i in range(n)]\n",
    "    return l[0], l[1]"
   ]
  },
  {
   "cell_type": "code",
   "execution_count": null,
   "metadata": {},
   "outputs": [],
   "source": [
    "list_in = [i for i in range(K)]\n",
    "total = []\n",
    "for i in range(10):\n",
    "    t0 = time.time()\n",
    "    set0, set1 = partition(list_in, 2)\n",
    "    t1 = time.time()\n",
    "    total.append(t1-t0)"
   ]
  },
  {
   "cell_type": "code",
   "execution_count": null,
   "metadata": {},
   "outputs": [],
   "source": [
    "sum(total)/10"
   ]
  }
 ],
 "metadata": {
  "kernelspec": {
   "display_name": "Python 3",
   "language": "python",
   "name": "python3"
  },
  "language_info": {
   "codemirror_mode": {
    "name": "ipython",
    "version": 3
   },
   "file_extension": ".py",
   "mimetype": "text/x-python",
   "name": "python",
   "nbconvert_exporter": "python",
   "pygments_lexer": "ipython3",
   "version": "3.7.4"
  }
 },
 "nbformat": 4,
 "nbformat_minor": 4
}
