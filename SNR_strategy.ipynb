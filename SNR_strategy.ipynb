{
 "cells": [
  {
   "cell_type": "markdown",
   "metadata": {},
   "source": [
    "In this notebook, we explain four strategies based on the power of each user. We will rank the users from the strongest to the weakest and then we will allocate them to one of the two groups according to specific strageies explained below."
   ]
  },
  {
   "cell_type": "code",
   "execution_count": 1,
   "metadata": {},
   "outputs": [],
   "source": [
    "N = 4 # number of antennas in the BS\n",
    "K = 10 # number of users (K >= N)\n",
    "X0 = 0.500 # parameter of the uniform distribution of the user on the x-axis\n",
    "Y0 = 0.500 # parameter of the uniform distribution of the user on the y-axis\n",
    "nsize = 10000 # size of the dataset"
   ]
  },
  {
   "cell_type": "code",
   "execution_count": 2,
   "metadata": {},
   "outputs": [],
   "source": [
    "from itertools import product, combinations\n",
    "import numpy as np\n",
    "from numpy.linalg import inv\n",
    "import h5py\n",
    "import pandas as pd\n",
    "from PIL import Image\n",
    "from numpy import linalg as LA\n",
    "import os\n",
    "from sklearn.model_selection import train_test_split\n",
    "from PIL import Image\n",
    "from matplotlib.pyplot import imshow\n",
    "import seaborn as sns\n",
    "from sklearn import metrics\n",
    "from IPython.display import clear_output\n",
    "%matplotlib inline\n",
    "np.random.seed(42) # fix the seed for reproducibility"
   ]
  },
  {
   "cell_type": "code",
   "execution_count": 3,
   "metadata": {},
   "outputs": [],
   "source": [
    "def hermetian(H):\n",
    "    return H.conj().T"
   ]
  },
  {
   "cell_type": "code",
   "execution_count": 4,
   "metadata": {},
   "outputs": [],
   "source": [
    "def SNR1(H, P, sigma, i):\n",
    "    K = H.shape[1]\n",
    "    N = H.shape[0]\n",
    "    P_i= P[i]\n",
    "    h_i = H[:,i][:, np.newaxis]\n",
    "    P = np.delete(P, i)\n",
    "    set_minus_i = list(range(K))\n",
    "    set_minus_i.pop(i)\n",
    "    SNR = P_i*hermetian(h_i).dot(inv(H[:,set_minus_i].dot(np.diag(P)).dot(hermetian(H[:,set_minus_i])) + sigma**2*np.identity(N))).dot(h_i)\n",
    "    return SNR.real"
   ]
  },
  {
   "cell_type": "code",
   "execution_count": 5,
   "metadata": {},
   "outputs": [],
   "source": [
    "def SNR2(H, P, sigma, i, set_I1):\n",
    "    K = H.shape[1]\n",
    "    N = H.shape[0]\n",
    "    P_i= P[i]\n",
    "    set_0 = set_I1 + [i]\n",
    "    h_i = H[:,i][:, np.newaxis]\n",
    "    P = np.delete(P, set_0)\n",
    "    set_minus_i = list(range(K))\n",
    "    set_minus_i = [j for j in set_minus_i if j not in set_0]\n",
    "    SNR = P_i*hermetian(h_i).dot(inv(H[:,set_minus_i].dot(np.diag(P)).dot(hermetian(H[:,set_minus_i])) + sigma**2*np.identity(N))).dot(h_i)\n",
    "    return SNR.real"
   ]
  },
  {
   "cell_type": "code",
   "execution_count": 6,
   "metadata": {},
   "outputs": [],
   "source": [
    "def sum_rate(df):\n",
    "    sigma = 1\n",
    "    with h5py.File('test_Data/' + df['H'], 'r') as hf:\n",
    "        H = hf[df['H'][:-3]][:]\n",
    "    with h5py.File('test_Data/' + df['P'], 'r') as hf:\n",
    "        P = hf[df['P'][:-3]][:]\n",
    "    P_diag = P.diagonal()\n",
    "    N = H.shape[0]\n",
    "    K = H.shape[1]\n",
    "    cols = ['User'+str(i+1) for i in range(K)]\n",
    "    conf = df[cols].values\n",
    "    set_I1 = np.where(conf == 0)[0].tolist()\n",
    "    set_I2 = np.where(conf == 1)[0].tolist()\n",
    "    SNR_1 = [SNR1(H, P_diag, sigma, s) for s in set_I1] # SNR_i^(1) for i in I_1\n",
    "    SNR_2 = [SNR2(H, P_diag, sigma, s, set_I1) for s in set_I2] # SNR_i^(2) for i in I_2\n",
    "    R_1 = np.sum(np.log(1+np.array(SNR_1)))\n",
    "    R_2 = np.sum(np.log(1+np.array(SNR_2)))\n",
    "    return R_1 + R_2"
   ]
  },
  {
   "cell_type": "code",
   "execution_count": 7,
   "metadata": {},
   "outputs": [],
   "source": [
    "cols = ['User' + str(i+1) for i in range(K)]"
   ]
  },
  {
   "cell_type": "code",
   "execution_count": 8,
   "metadata": {},
   "outputs": [],
   "source": [
    "test_df = pd.read_csv('test_data.csv')"
   ]
  },
  {
   "cell_type": "markdown",
   "metadata": {},
   "source": [
    "# First strategy"
   ]
  },
  {
   "cell_type": "markdown",
   "metadata": {},
   "source": [
    "In this first strategy, we will put the first strongest users into group 1 and the weakest into group 2."
   ]
  },
  {
   "cell_type": "code",
   "execution_count": 9,
   "metadata": {},
   "outputs": [],
   "source": [
    "def snr1_label(df):\n",
    "    N = 4\n",
    "    K = 10\n",
    "    with h5py.File('test_Data/' + df['H'], 'r') as hf:\n",
    "        H = hf[df['H'][:-3]][:]\n",
    "    with h5py.File('test_Data/' + df['P'], 'r') as hf:\n",
    "        P = hf[df['P'][:-3]][:]\n",
    "    \n",
    "    P = np.diag(P)\n",
    "    power = []\n",
    "    for i in range(K):\n",
    "        h_i = H[:,i][:, np.newaxis]\n",
    "        P_i = P[i]\n",
    "        power.append(LA.norm(h_i)**2*P_i)\n",
    "        \n",
    "    s = sorted(range(len(power)), key=lambda k: power[k])\n",
    "                           \n",
    "    set0 = [s[i] for i in range(int(len(s)/2))]\n",
    "    set1 = [s[i] for i in range(int(len(s)/2), len(s))]\n",
    "    # transform it to one vector\n",
    "    labels = np.zeros(K)\n",
    "    for i in range(K):\n",
    "        if  i in set0:\n",
    "            labels[i] = 0\n",
    "        else:\n",
    "            labels[i] = 1\n",
    "\n",
    "    return list(labels)"
   ]
  },
  {
   "cell_type": "code",
   "execution_count": 10,
   "metadata": {},
   "outputs": [],
   "source": [
    "column_names=['User' + str(i+1) for i in range(K)]\n",
    "snr1_df = pd.DataFrame(columns = column_names)"
   ]
  },
  {
   "cell_type": "code",
   "execution_count": 11,
   "metadata": {},
   "outputs": [],
   "source": [
    "x= test_df.apply(snr1_label, axis = 1)"
   ]
  },
  {
   "cell_type": "code",
   "execution_count": 12,
   "metadata": {},
   "outputs": [],
   "source": [
    "for j in range(2000):\n",
    "    snr1_df.loc[j] = x[j]"
   ]
  },
  {
   "cell_type": "code",
   "execution_count": 13,
   "metadata": {},
   "outputs": [],
   "source": [
    "snr1_df['H'] = test_df['H']\n",
    "snr1_df['P'] = test_df['P']"
   ]
  },
  {
   "cell_type": "code",
   "execution_count": 14,
   "metadata": {},
   "outputs": [],
   "source": [
    "test_df['sum_rate'] = test_df.apply(sum_rate, axis = 1)"
   ]
  },
  {
   "cell_type": "code",
   "execution_count": 15,
   "metadata": {},
   "outputs": [
    {
     "data": {
      "text/html": [
       "<div>\n",
       "<style scoped>\n",
       "    .dataframe tbody tr th:only-of-type {\n",
       "        vertical-align: middle;\n",
       "    }\n",
       "\n",
       "    .dataframe tbody tr th {\n",
       "        vertical-align: top;\n",
       "    }\n",
       "\n",
       "    .dataframe thead th {\n",
       "        text-align: right;\n",
       "    }\n",
       "</style>\n",
       "<table border=\"1\" class=\"dataframe\">\n",
       "  <thead>\n",
       "    <tr style=\"text-align: right;\">\n",
       "      <th></th>\n",
       "      <th>User1</th>\n",
       "      <th>User2</th>\n",
       "      <th>User3</th>\n",
       "      <th>User4</th>\n",
       "      <th>User5</th>\n",
       "      <th>User6</th>\n",
       "      <th>User7</th>\n",
       "      <th>User8</th>\n",
       "      <th>User9</th>\n",
       "      <th>User10</th>\n",
       "      <th>H</th>\n",
       "      <th>P</th>\n",
       "    </tr>\n",
       "  </thead>\n",
       "  <tbody>\n",
       "    <tr>\n",
       "      <td>0</td>\n",
       "      <td>0.0</td>\n",
       "      <td>1.0</td>\n",
       "      <td>1.0</td>\n",
       "      <td>1.0</td>\n",
       "      <td>1.0</td>\n",
       "      <td>0.0</td>\n",
       "      <td>0.0</td>\n",
       "      <td>0.0</td>\n",
       "      <td>0.0</td>\n",
       "      <td>1.0</td>\n",
       "      <td>H_1.h5</td>\n",
       "      <td>P_1.h5</td>\n",
       "    </tr>\n",
       "    <tr>\n",
       "      <td>1</td>\n",
       "      <td>1.0</td>\n",
       "      <td>0.0</td>\n",
       "      <td>0.0</td>\n",
       "      <td>1.0</td>\n",
       "      <td>0.0</td>\n",
       "      <td>0.0</td>\n",
       "      <td>1.0</td>\n",
       "      <td>1.0</td>\n",
       "      <td>1.0</td>\n",
       "      <td>0.0</td>\n",
       "      <td>H_2.h5</td>\n",
       "      <td>P_2.h5</td>\n",
       "    </tr>\n",
       "    <tr>\n",
       "      <td>2</td>\n",
       "      <td>1.0</td>\n",
       "      <td>0.0</td>\n",
       "      <td>1.0</td>\n",
       "      <td>0.0</td>\n",
       "      <td>0.0</td>\n",
       "      <td>1.0</td>\n",
       "      <td>1.0</td>\n",
       "      <td>0.0</td>\n",
       "      <td>0.0</td>\n",
       "      <td>1.0</td>\n",
       "      <td>H_3.h5</td>\n",
       "      <td>P_3.h5</td>\n",
       "    </tr>\n",
       "    <tr>\n",
       "      <td>3</td>\n",
       "      <td>0.0</td>\n",
       "      <td>1.0</td>\n",
       "      <td>0.0</td>\n",
       "      <td>0.0</td>\n",
       "      <td>1.0</td>\n",
       "      <td>1.0</td>\n",
       "      <td>1.0</td>\n",
       "      <td>0.0</td>\n",
       "      <td>0.0</td>\n",
       "      <td>1.0</td>\n",
       "      <td>H_4.h5</td>\n",
       "      <td>P_4.h5</td>\n",
       "    </tr>\n",
       "    <tr>\n",
       "      <td>4</td>\n",
       "      <td>0.0</td>\n",
       "      <td>1.0</td>\n",
       "      <td>0.0</td>\n",
       "      <td>1.0</td>\n",
       "      <td>0.0</td>\n",
       "      <td>1.0</td>\n",
       "      <td>0.0</td>\n",
       "      <td>1.0</td>\n",
       "      <td>1.0</td>\n",
       "      <td>0.0</td>\n",
       "      <td>H_5.h5</td>\n",
       "      <td>P_5.h5</td>\n",
       "    </tr>\n",
       "  </tbody>\n",
       "</table>\n",
       "</div>"
      ],
      "text/plain": [
       "   User1  User2  User3  User4  User5  User6  User7  User8  User9  User10  \\\n",
       "0    0.0    1.0    1.0    1.0    1.0    0.0    0.0    0.0    0.0     1.0   \n",
       "1    1.0    0.0    0.0    1.0    0.0    0.0    1.0    1.0    1.0     0.0   \n",
       "2    1.0    0.0    1.0    0.0    0.0    1.0    1.0    0.0    0.0     1.0   \n",
       "3    0.0    1.0    0.0    0.0    1.0    1.0    1.0    0.0    0.0     1.0   \n",
       "4    0.0    1.0    0.0    1.0    0.0    1.0    0.0    1.0    1.0     0.0   \n",
       "\n",
       "        H       P  \n",
       "0  H_1.h5  P_1.h5  \n",
       "1  H_2.h5  P_2.h5  \n",
       "2  H_3.h5  P_3.h5  \n",
       "3  H_4.h5  P_4.h5  \n",
       "4  H_5.h5  P_5.h5  "
      ]
     },
     "execution_count": 15,
     "metadata": {},
     "output_type": "execute_result"
    }
   ],
   "source": [
    "snr1_df.head()"
   ]
  },
  {
   "cell_type": "code",
   "execution_count": 16,
   "metadata": {},
   "outputs": [],
   "source": [
    "snr1_df['sum_rate'] = snr1_df.apply(sum_rate, axis = 1)"
   ]
  },
  {
   "cell_type": "code",
   "execution_count": 17,
   "metadata": {},
   "outputs": [
    {
     "data": {
      "text/html": [
       "<div>\n",
       "<style scoped>\n",
       "    .dataframe tbody tr th:only-of-type {\n",
       "        vertical-align: middle;\n",
       "    }\n",
       "\n",
       "    .dataframe tbody tr th {\n",
       "        vertical-align: top;\n",
       "    }\n",
       "\n",
       "    .dataframe thead th {\n",
       "        text-align: right;\n",
       "    }\n",
       "</style>\n",
       "<table border=\"1\" class=\"dataframe\">\n",
       "  <thead>\n",
       "    <tr style=\"text-align: right;\">\n",
       "      <th></th>\n",
       "      <th>User1</th>\n",
       "      <th>User2</th>\n",
       "      <th>User3</th>\n",
       "      <th>User4</th>\n",
       "      <th>User5</th>\n",
       "      <th>User6</th>\n",
       "      <th>User7</th>\n",
       "      <th>User8</th>\n",
       "      <th>User9</th>\n",
       "      <th>User10</th>\n",
       "      <th>H</th>\n",
       "      <th>P</th>\n",
       "      <th>sum_rate</th>\n",
       "    </tr>\n",
       "  </thead>\n",
       "  <tbody>\n",
       "    <tr>\n",
       "      <td>0</td>\n",
       "      <td>0.0</td>\n",
       "      <td>1.0</td>\n",
       "      <td>1.0</td>\n",
       "      <td>1.0</td>\n",
       "      <td>1.0</td>\n",
       "      <td>0.0</td>\n",
       "      <td>0.0</td>\n",
       "      <td>0.0</td>\n",
       "      <td>0.0</td>\n",
       "      <td>1.0</td>\n",
       "      <td>H_1.h5</td>\n",
       "      <td>P_1.h5</td>\n",
       "      <td>23.516408</td>\n",
       "    </tr>\n",
       "    <tr>\n",
       "      <td>1</td>\n",
       "      <td>1.0</td>\n",
       "      <td>0.0</td>\n",
       "      <td>0.0</td>\n",
       "      <td>1.0</td>\n",
       "      <td>0.0</td>\n",
       "      <td>0.0</td>\n",
       "      <td>1.0</td>\n",
       "      <td>1.0</td>\n",
       "      <td>1.0</td>\n",
       "      <td>0.0</td>\n",
       "      <td>H_2.h5</td>\n",
       "      <td>P_2.h5</td>\n",
       "      <td>18.734753</td>\n",
       "    </tr>\n",
       "    <tr>\n",
       "      <td>2</td>\n",
       "      <td>1.0</td>\n",
       "      <td>0.0</td>\n",
       "      <td>1.0</td>\n",
       "      <td>0.0</td>\n",
       "      <td>0.0</td>\n",
       "      <td>1.0</td>\n",
       "      <td>1.0</td>\n",
       "      <td>0.0</td>\n",
       "      <td>0.0</td>\n",
       "      <td>1.0</td>\n",
       "      <td>H_3.h5</td>\n",
       "      <td>P_3.h5</td>\n",
       "      <td>11.070492</td>\n",
       "    </tr>\n",
       "    <tr>\n",
       "      <td>3</td>\n",
       "      <td>0.0</td>\n",
       "      <td>1.0</td>\n",
       "      <td>0.0</td>\n",
       "      <td>0.0</td>\n",
       "      <td>1.0</td>\n",
       "      <td>1.0</td>\n",
       "      <td>1.0</td>\n",
       "      <td>0.0</td>\n",
       "      <td>0.0</td>\n",
       "      <td>1.0</td>\n",
       "      <td>H_4.h5</td>\n",
       "      <td>P_4.h5</td>\n",
       "      <td>13.418563</td>\n",
       "    </tr>\n",
       "    <tr>\n",
       "      <td>4</td>\n",
       "      <td>0.0</td>\n",
       "      <td>1.0</td>\n",
       "      <td>0.0</td>\n",
       "      <td>1.0</td>\n",
       "      <td>0.0</td>\n",
       "      <td>1.0</td>\n",
       "      <td>0.0</td>\n",
       "      <td>1.0</td>\n",
       "      <td>1.0</td>\n",
       "      <td>0.0</td>\n",
       "      <td>H_5.h5</td>\n",
       "      <td>P_5.h5</td>\n",
       "      <td>10.378225</td>\n",
       "    </tr>\n",
       "  </tbody>\n",
       "</table>\n",
       "</div>"
      ],
      "text/plain": [
       "   User1  User2  User3  User4  User5  User6  User7  User8  User9  User10  \\\n",
       "0    0.0    1.0    1.0    1.0    1.0    0.0    0.0    0.0    0.0     1.0   \n",
       "1    1.0    0.0    0.0    1.0    0.0    0.0    1.0    1.0    1.0     0.0   \n",
       "2    1.0    0.0    1.0    0.0    0.0    1.0    1.0    0.0    0.0     1.0   \n",
       "3    0.0    1.0    0.0    0.0    1.0    1.0    1.0    0.0    0.0     1.0   \n",
       "4    0.0    1.0    0.0    1.0    0.0    1.0    0.0    1.0    1.0     0.0   \n",
       "\n",
       "        H       P   sum_rate  \n",
       "0  H_1.h5  P_1.h5  23.516408  \n",
       "1  H_2.h5  P_2.h5  18.734753  \n",
       "2  H_3.h5  P_3.h5  11.070492  \n",
       "3  H_4.h5  P_4.h5  13.418563  \n",
       "4  H_5.h5  P_5.h5  10.378225  "
      ]
     },
     "execution_count": 17,
     "metadata": {},
     "output_type": "execute_result"
    }
   ],
   "source": [
    "snr1_df.head()"
   ]
  },
  {
   "cell_type": "code",
   "execution_count": 18,
   "metadata": {},
   "outputs": [
    {
     "name": "stdout",
     "output_type": "stream",
     "text": [
      "RMSE of the sum rate on the test set is: 10.78\n",
      "MAPE of the sum rate on the test set is: 39.19\n"
     ]
    }
   ],
   "source": [
    "from sklearn.metrics import mean_squared_error\n",
    "rmse = np.sqrt(mean_squared_error(test_df['sum_rate'],snr1_df['sum_rate']))\n",
    "mape = np.mean(np.abs((test_df['sum_rate'] - snr1_df['sum_rate']) / test_df['sum_rate'])) * 100\n",
    "print('RMSE of the sum rate on the test set is:', round(rmse,2))\n",
    "print('MAPE of the sum rate on the test set is:', round(mape,2))"
   ]
  },
  {
   "cell_type": "markdown",
   "metadata": {},
   "source": [
    "## Second Strategy "
   ]
  },
  {
   "cell_type": "markdown",
   "metadata": {},
   "source": [
    "In the second strategy, we will put the weakest users into the first group and the strongest into the second group."
   ]
  },
  {
   "cell_type": "code",
   "execution_count": 19,
   "metadata": {},
   "outputs": [],
   "source": [
    "def snr2_label(df):\n",
    "    N = 4\n",
    "    K = 10\n",
    "    with h5py.File('test_Data/' + df['H'], 'r') as hf:\n",
    "        H = hf[df['H'][:-3]][:]\n",
    "    with h5py.File('test_Data/' + df['P'], 'r') as hf:\n",
    "        P = hf[df['P'][:-3]][:]\n",
    "    \n",
    "    P = np.diag(P)\n",
    "    power = []\n",
    "    for i in range(K):\n",
    "        h_i = H[:,i][:, np.newaxis]\n",
    "        P_i = P[i]\n",
    "        power.append(LA.norm(h_i)**2*P_i)\n",
    "        \n",
    "    s = sorted(range(len(power)), key=lambda k: power[k])\n",
    "                           \n",
    "    set1 = [s[i] for i in range(int(len(s)/2))]\n",
    "    set0 = [s[i] for i in range(int(len(s)/2), len(s))]\n",
    "    # transform it to one vector\n",
    "    labels = np.zeros(K)\n",
    "    for i in range(K):\n",
    "        if  i in set0:\n",
    "            labels[i] = 0\n",
    "        else:\n",
    "            labels[i] = 1\n",
    "\n",
    "    return list(labels)"
   ]
  },
  {
   "cell_type": "code",
   "execution_count": 20,
   "metadata": {},
   "outputs": [],
   "source": [
    "column_names=['User' + str(i+1) for i in range(K)]\n",
    "snr2_df = pd.DataFrame(columns = column_names)"
   ]
  },
  {
   "cell_type": "code",
   "execution_count": 21,
   "metadata": {},
   "outputs": [],
   "source": [
    "x= test_df.apply(snr2_label, axis = 1)"
   ]
  },
  {
   "cell_type": "code",
   "execution_count": 22,
   "metadata": {},
   "outputs": [],
   "source": [
    "for j in range(2000):\n",
    "    snr2_df.loc[j] = x[j]"
   ]
  },
  {
   "cell_type": "code",
   "execution_count": 23,
   "metadata": {},
   "outputs": [],
   "source": [
    "snr2_df['H'] = test_df['H']\n",
    "snr2_df['P'] = test_df['P']"
   ]
  },
  {
   "cell_type": "code",
   "execution_count": 24,
   "metadata": {},
   "outputs": [
    {
     "data": {
      "text/html": [
       "<div>\n",
       "<style scoped>\n",
       "    .dataframe tbody tr th:only-of-type {\n",
       "        vertical-align: middle;\n",
       "    }\n",
       "\n",
       "    .dataframe tbody tr th {\n",
       "        vertical-align: top;\n",
       "    }\n",
       "\n",
       "    .dataframe thead th {\n",
       "        text-align: right;\n",
       "    }\n",
       "</style>\n",
       "<table border=\"1\" class=\"dataframe\">\n",
       "  <thead>\n",
       "    <tr style=\"text-align: right;\">\n",
       "      <th></th>\n",
       "      <th>User1</th>\n",
       "      <th>User2</th>\n",
       "      <th>User3</th>\n",
       "      <th>User4</th>\n",
       "      <th>User5</th>\n",
       "      <th>User6</th>\n",
       "      <th>User7</th>\n",
       "      <th>User8</th>\n",
       "      <th>User9</th>\n",
       "      <th>User10</th>\n",
       "      <th>H</th>\n",
       "      <th>P</th>\n",
       "    </tr>\n",
       "  </thead>\n",
       "  <tbody>\n",
       "    <tr>\n",
       "      <td>0</td>\n",
       "      <td>1.0</td>\n",
       "      <td>0.0</td>\n",
       "      <td>0.0</td>\n",
       "      <td>0.0</td>\n",
       "      <td>0.0</td>\n",
       "      <td>1.0</td>\n",
       "      <td>1.0</td>\n",
       "      <td>1.0</td>\n",
       "      <td>1.0</td>\n",
       "      <td>0.0</td>\n",
       "      <td>H_1.h5</td>\n",
       "      <td>P_1.h5</td>\n",
       "    </tr>\n",
       "    <tr>\n",
       "      <td>1</td>\n",
       "      <td>0.0</td>\n",
       "      <td>1.0</td>\n",
       "      <td>1.0</td>\n",
       "      <td>0.0</td>\n",
       "      <td>1.0</td>\n",
       "      <td>1.0</td>\n",
       "      <td>0.0</td>\n",
       "      <td>0.0</td>\n",
       "      <td>0.0</td>\n",
       "      <td>1.0</td>\n",
       "      <td>H_2.h5</td>\n",
       "      <td>P_2.h5</td>\n",
       "    </tr>\n",
       "    <tr>\n",
       "      <td>2</td>\n",
       "      <td>0.0</td>\n",
       "      <td>1.0</td>\n",
       "      <td>0.0</td>\n",
       "      <td>1.0</td>\n",
       "      <td>1.0</td>\n",
       "      <td>0.0</td>\n",
       "      <td>0.0</td>\n",
       "      <td>1.0</td>\n",
       "      <td>1.0</td>\n",
       "      <td>0.0</td>\n",
       "      <td>H_3.h5</td>\n",
       "      <td>P_3.h5</td>\n",
       "    </tr>\n",
       "    <tr>\n",
       "      <td>3</td>\n",
       "      <td>1.0</td>\n",
       "      <td>0.0</td>\n",
       "      <td>1.0</td>\n",
       "      <td>1.0</td>\n",
       "      <td>0.0</td>\n",
       "      <td>0.0</td>\n",
       "      <td>0.0</td>\n",
       "      <td>1.0</td>\n",
       "      <td>1.0</td>\n",
       "      <td>0.0</td>\n",
       "      <td>H_4.h5</td>\n",
       "      <td>P_4.h5</td>\n",
       "    </tr>\n",
       "    <tr>\n",
       "      <td>4</td>\n",
       "      <td>1.0</td>\n",
       "      <td>0.0</td>\n",
       "      <td>1.0</td>\n",
       "      <td>0.0</td>\n",
       "      <td>1.0</td>\n",
       "      <td>0.0</td>\n",
       "      <td>1.0</td>\n",
       "      <td>0.0</td>\n",
       "      <td>0.0</td>\n",
       "      <td>1.0</td>\n",
       "      <td>H_5.h5</td>\n",
       "      <td>P_5.h5</td>\n",
       "    </tr>\n",
       "  </tbody>\n",
       "</table>\n",
       "</div>"
      ],
      "text/plain": [
       "   User1  User2  User3  User4  User5  User6  User7  User8  User9  User10  \\\n",
       "0    1.0    0.0    0.0    0.0    0.0    1.0    1.0    1.0    1.0     0.0   \n",
       "1    0.0    1.0    1.0    0.0    1.0    1.0    0.0    0.0    0.0     1.0   \n",
       "2    0.0    1.0    0.0    1.0    1.0    0.0    0.0    1.0    1.0     0.0   \n",
       "3    1.0    0.0    1.0    1.0    0.0    0.0    0.0    1.0    1.0     0.0   \n",
       "4    1.0    0.0    1.0    0.0    1.0    0.0    1.0    0.0    0.0     1.0   \n",
       "\n",
       "        H       P  \n",
       "0  H_1.h5  P_1.h5  \n",
       "1  H_2.h5  P_2.h5  \n",
       "2  H_3.h5  P_3.h5  \n",
       "3  H_4.h5  P_4.h5  \n",
       "4  H_5.h5  P_5.h5  "
      ]
     },
     "execution_count": 24,
     "metadata": {},
     "output_type": "execute_result"
    }
   ],
   "source": [
    "snr2_df.head()"
   ]
  },
  {
   "cell_type": "code",
   "execution_count": 25,
   "metadata": {},
   "outputs": [],
   "source": [
    "snr2_df['sum_rate'] = snr2_df.apply(sum_rate, axis = 1)"
   ]
  },
  {
   "cell_type": "code",
   "execution_count": 26,
   "metadata": {},
   "outputs": [
    {
     "name": "stdout",
     "output_type": "stream",
     "text": [
      "RMSE of the sum rate on the test set is: 9.12\n",
      "MAPE of the sum rate on the test set is: 33.38\n"
     ]
    }
   ],
   "source": [
    "from sklearn.metrics import mean_squared_error\n",
    "rmse = np.sqrt(mean_squared_error(test_df['sum_rate'],snr2_df['sum_rate']))\n",
    "mape = np.mean(np.abs((test_df['sum_rate'] - snr2_df['sum_rate']) / test_df['sum_rate'])) * 100\n",
    "print('RMSE of the sum rate on the test set is:', round(rmse,2))\n",
    "print('MAPE of the sum rate on the test set is:', round(mape,2))"
   ]
  },
  {
   "cell_type": "markdown",
   "metadata": {},
   "source": [
    "## Third Strategy"
   ]
  },
  {
   "cell_type": "markdown",
   "metadata": {},
   "source": [
    "In this strategy, we will put $U_{odd}$ (set of odd indices) into group 1 and $U_{even}$ (set of even indices) into group 2."
   ]
  },
  {
   "cell_type": "code",
   "execution_count": 27,
   "metadata": {},
   "outputs": [],
   "source": [
    "def snr3_label(df):\n",
    "    N = 4\n",
    "    K = 10\n",
    "    with h5py.File('test_Data/' + df['H'], 'r') as hf:\n",
    "        H = hf[df['H'][:-3]][:]\n",
    "    with h5py.File('test_Data/' + df['P'], 'r') as hf:\n",
    "        P = hf[df['P'][:-3]][:]\n",
    "    \n",
    "    P = np.diag(P)\n",
    "    power = []\n",
    "    for i in range(K):\n",
    "        h_i = H[:,i][:, np.newaxis]\n",
    "        P_i = P[i]\n",
    "        power.append(LA.norm(h_i)**2*P_i)\n",
    "        \n",
    "    s = sorted(range(len(power)), key=lambda k: power[k])\n",
    "                           \n",
    "    set0 = s[0:][::2] # even\n",
    "    set1 = s[1:][::2] # odd\n",
    "    # transform it to one vector\n",
    "    labels = np.zeros(K)\n",
    "    for i in range(K):\n",
    "        if  i in set0:\n",
    "            labels[i] = 0\n",
    "        else:\n",
    "            labels[i] = 1\n",
    "\n",
    "    return list(labels)"
   ]
  },
  {
   "cell_type": "code",
   "execution_count": 28,
   "metadata": {},
   "outputs": [],
   "source": [
    "column_names=['User' + str(i+1) for i in range(K)]\n",
    "snr3_df = pd.DataFrame(columns = column_names)"
   ]
  },
  {
   "cell_type": "code",
   "execution_count": 29,
   "metadata": {},
   "outputs": [],
   "source": [
    "x= test_df.apply(snr3_label, axis = 1)"
   ]
  },
  {
   "cell_type": "code",
   "execution_count": 30,
   "metadata": {},
   "outputs": [],
   "source": [
    "for j in range(2000):\n",
    "    snr3_df.loc[j] = x[j]"
   ]
  },
  {
   "cell_type": "code",
   "execution_count": 31,
   "metadata": {},
   "outputs": [],
   "source": [
    "snr3_df['H'] = test_df['H']\n",
    "snr3_df['P'] = test_df['P'] "
   ]
  },
  {
   "cell_type": "code",
   "execution_count": 32,
   "metadata": {},
   "outputs": [
    {
     "data": {
      "text/html": [
       "<div>\n",
       "<style scoped>\n",
       "    .dataframe tbody tr th:only-of-type {\n",
       "        vertical-align: middle;\n",
       "    }\n",
       "\n",
       "    .dataframe tbody tr th {\n",
       "        vertical-align: top;\n",
       "    }\n",
       "\n",
       "    .dataframe thead th {\n",
       "        text-align: right;\n",
       "    }\n",
       "</style>\n",
       "<table border=\"1\" class=\"dataframe\">\n",
       "  <thead>\n",
       "    <tr style=\"text-align: right;\">\n",
       "      <th></th>\n",
       "      <th>User1</th>\n",
       "      <th>User2</th>\n",
       "      <th>User3</th>\n",
       "      <th>User4</th>\n",
       "      <th>User5</th>\n",
       "      <th>User6</th>\n",
       "      <th>User7</th>\n",
       "      <th>User8</th>\n",
       "      <th>User9</th>\n",
       "      <th>User10</th>\n",
       "      <th>H</th>\n",
       "      <th>P</th>\n",
       "    </tr>\n",
       "  </thead>\n",
       "  <tbody>\n",
       "    <tr>\n",
       "      <td>0</td>\n",
       "      <td>0.0</td>\n",
       "      <td>1.0</td>\n",
       "      <td>0.0</td>\n",
       "      <td>0.0</td>\n",
       "      <td>1.0</td>\n",
       "      <td>1.0</td>\n",
       "      <td>1.0</td>\n",
       "      <td>0.0</td>\n",
       "      <td>0.0</td>\n",
       "      <td>1.0</td>\n",
       "      <td>H_1.h5</td>\n",
       "      <td>P_1.h5</td>\n",
       "    </tr>\n",
       "    <tr>\n",
       "      <td>1</td>\n",
       "      <td>1.0</td>\n",
       "      <td>1.0</td>\n",
       "      <td>0.0</td>\n",
       "      <td>1.0</td>\n",
       "      <td>0.0</td>\n",
       "      <td>0.0</td>\n",
       "      <td>0.0</td>\n",
       "      <td>1.0</td>\n",
       "      <td>0.0</td>\n",
       "      <td>1.0</td>\n",
       "      <td>H_2.h5</td>\n",
       "      <td>P_2.h5</td>\n",
       "    </tr>\n",
       "    <tr>\n",
       "      <td>2</td>\n",
       "      <td>1.0</td>\n",
       "      <td>0.0</td>\n",
       "      <td>0.0</td>\n",
       "      <td>1.0</td>\n",
       "      <td>1.0</td>\n",
       "      <td>1.0</td>\n",
       "      <td>1.0</td>\n",
       "      <td>0.0</td>\n",
       "      <td>0.0</td>\n",
       "      <td>0.0</td>\n",
       "      <td>H_3.h5</td>\n",
       "      <td>P_3.h5</td>\n",
       "    </tr>\n",
       "    <tr>\n",
       "      <td>3</td>\n",
       "      <td>1.0</td>\n",
       "      <td>0.0</td>\n",
       "      <td>0.0</td>\n",
       "      <td>0.0</td>\n",
       "      <td>1.0</td>\n",
       "      <td>1.0</td>\n",
       "      <td>1.0</td>\n",
       "      <td>1.0</td>\n",
       "      <td>0.0</td>\n",
       "      <td>0.0</td>\n",
       "      <td>H_4.h5</td>\n",
       "      <td>P_4.h5</td>\n",
       "    </tr>\n",
       "    <tr>\n",
       "      <td>4</td>\n",
       "      <td>1.0</td>\n",
       "      <td>0.0</td>\n",
       "      <td>1.0</td>\n",
       "      <td>1.0</td>\n",
       "      <td>0.0</td>\n",
       "      <td>1.0</td>\n",
       "      <td>0.0</td>\n",
       "      <td>0.0</td>\n",
       "      <td>1.0</td>\n",
       "      <td>0.0</td>\n",
       "      <td>H_5.h5</td>\n",
       "      <td>P_5.h5</td>\n",
       "    </tr>\n",
       "  </tbody>\n",
       "</table>\n",
       "</div>"
      ],
      "text/plain": [
       "   User1  User2  User3  User4  User5  User6  User7  User8  User9  User10  \\\n",
       "0    0.0    1.0    0.0    0.0    1.0    1.0    1.0    0.0    0.0     1.0   \n",
       "1    1.0    1.0    0.0    1.0    0.0    0.0    0.0    1.0    0.0     1.0   \n",
       "2    1.0    0.0    0.0    1.0    1.0    1.0    1.0    0.0    0.0     0.0   \n",
       "3    1.0    0.0    0.0    0.0    1.0    1.0    1.0    1.0    0.0     0.0   \n",
       "4    1.0    0.0    1.0    1.0    0.0    1.0    0.0    0.0    1.0     0.0   \n",
       "\n",
       "        H       P  \n",
       "0  H_1.h5  P_1.h5  \n",
       "1  H_2.h5  P_2.h5  \n",
       "2  H_3.h5  P_3.h5  \n",
       "3  H_4.h5  P_4.h5  \n",
       "4  H_5.h5  P_5.h5  "
      ]
     },
     "execution_count": 32,
     "metadata": {},
     "output_type": "execute_result"
    }
   ],
   "source": [
    "snr3_df.head()"
   ]
  },
  {
   "cell_type": "code",
   "execution_count": null,
   "metadata": {},
   "outputs": [],
   "source": [
    "snr3_df['sum_rate'] = snr3_df.apply(sum_rate, axis = 1)"
   ]
  },
  {
   "cell_type": "code",
   "execution_count": null,
   "metadata": {},
   "outputs": [],
   "source": [
    "from sklearn.metrics import mean_squared_error\n",
    "rmse = np.sqrt(mean_squared_error(test_df['sum_rate'],snr3_df['sum_rate']))\n",
    "mape = np.mean(np.abs((test_df['sum_rate'] - snr3_df['sum_rate']) / test_df['sum_rate'])) * 100\n",
    "print('RMSE of the sum rate on the test set is:', round(rmse,2))\n",
    "print('MAPE of the sum rate on the test set is:', round(mape,2))"
   ]
  },
  {
   "cell_type": "markdown",
   "metadata": {},
   "source": [
    "## Fourth Strategy"
   ]
  },
  {
   "cell_type": "markdown",
   "metadata": {},
   "source": [
    "In this strategy, we will put $U_{eve}$ (set of odd indices) into group 1 and $U_{even}$ (set of even indices) into group 2."
   ]
  },
  {
   "cell_type": "code",
   "execution_count": 52,
   "metadata": {},
   "outputs": [],
   "source": [
    "def snr4_label(df):\n",
    "    N = 4\n",
    "    K = 10\n",
    "    with h5py.File('test_Data/' + df['H'], 'r') as hf:\n",
    "        H = hf[df['H'][:-3]][:]\n",
    "    with h5py.File('test_Data/' + df['P'], 'r') as hf:\n",
    "        P = hf[df['P'][:-3]][:]\n",
    "    \n",
    "    P = np.diag(P)\n",
    "    power = []\n",
    "    for i in range(K):\n",
    "        h_i = H[:,i][:, np.newaxis]\n",
    "        P_i = P[i]\n",
    "        power.append(LA.norm(h_i)**2*P_i)\n",
    "        \n",
    "    s = sorted(range(len(power)), key=lambda k: power[k])\n",
    "                           \n",
    "    set1 = s[0:][::2] # even\n",
    "    set0 = s[1:][::2] # odd\n",
    "    # transform it to one vector\n",
    "    labels = np.zeros(K)\n",
    "    for i in range(K):\n",
    "        if  i in set0:\n",
    "            labels[i] = 0\n",
    "        else:\n",
    "            labels[i] = 1\n",
    "\n",
    "    return list(labels)"
   ]
  },
  {
   "cell_type": "code",
   "execution_count": 53,
   "metadata": {},
   "outputs": [],
   "source": [
    "column_names=['User' + str(i+1) for i in range(K)]\n",
    "snr4_df = pd.DataFrame(columns = column_names)"
   ]
  },
  {
   "cell_type": "code",
   "execution_count": 54,
   "metadata": {},
   "outputs": [],
   "source": [
    "x= test_df.apply(snr4_label, axis = 1)"
   ]
  },
  {
   "cell_type": "code",
   "execution_count": 55,
   "metadata": {},
   "outputs": [],
   "source": [
    "for j in range(2000):\n",
    "    snr4_df.loc[j] = x[j]"
   ]
  },
  {
   "cell_type": "code",
   "execution_count": 56,
   "metadata": {},
   "outputs": [],
   "source": [
    "snr4_df['H'] = test_df['H']\n",
    "snr4_df['P'] = test_df['P']"
   ]
  },
  {
   "cell_type": "code",
   "execution_count": 57,
   "metadata": {},
   "outputs": [
    {
     "data": {
      "text/html": [
       "<div>\n",
       "<style scoped>\n",
       "    .dataframe tbody tr th:only-of-type {\n",
       "        vertical-align: middle;\n",
       "    }\n",
       "\n",
       "    .dataframe tbody tr th {\n",
       "        vertical-align: top;\n",
       "    }\n",
       "\n",
       "    .dataframe thead th {\n",
       "        text-align: right;\n",
       "    }\n",
       "</style>\n",
       "<table border=\"1\" class=\"dataframe\">\n",
       "  <thead>\n",
       "    <tr style=\"text-align: right;\">\n",
       "      <th></th>\n",
       "      <th>User1</th>\n",
       "      <th>User2</th>\n",
       "      <th>User3</th>\n",
       "      <th>User4</th>\n",
       "      <th>User5</th>\n",
       "      <th>User6</th>\n",
       "      <th>User7</th>\n",
       "      <th>User8</th>\n",
       "      <th>User9</th>\n",
       "      <th>User10</th>\n",
       "      <th>H</th>\n",
       "      <th>P</th>\n",
       "      <th>sum_rate</th>\n",
       "    </tr>\n",
       "  </thead>\n",
       "  <tbody>\n",
       "    <tr>\n",
       "      <td>0</td>\n",
       "      <td>0.0</td>\n",
       "      <td>1.0</td>\n",
       "      <td>0.0</td>\n",
       "      <td>0.0</td>\n",
       "      <td>1.0</td>\n",
       "      <td>1.0</td>\n",
       "      <td>1.0</td>\n",
       "      <td>0.0</td>\n",
       "      <td>0.0</td>\n",
       "      <td>1.0</td>\n",
       "      <td>H_1.h5</td>\n",
       "      <td>P_1.h5</td>\n",
       "      <td>19.136739</td>\n",
       "    </tr>\n",
       "    <tr>\n",
       "      <td>1</td>\n",
       "      <td>1.0</td>\n",
       "      <td>1.0</td>\n",
       "      <td>0.0</td>\n",
       "      <td>1.0</td>\n",
       "      <td>0.0</td>\n",
       "      <td>0.0</td>\n",
       "      <td>0.0</td>\n",
       "      <td>1.0</td>\n",
       "      <td>0.0</td>\n",
       "      <td>1.0</td>\n",
       "      <td>H_2.h5</td>\n",
       "      <td>P_2.h5</td>\n",
       "      <td>23.254066</td>\n",
       "    </tr>\n",
       "    <tr>\n",
       "      <td>2</td>\n",
       "      <td>1.0</td>\n",
       "      <td>0.0</td>\n",
       "      <td>0.0</td>\n",
       "      <td>1.0</td>\n",
       "      <td>1.0</td>\n",
       "      <td>1.0</td>\n",
       "      <td>1.0</td>\n",
       "      <td>0.0</td>\n",
       "      <td>0.0</td>\n",
       "      <td>0.0</td>\n",
       "      <td>H_3.h5</td>\n",
       "      <td>P_3.h5</td>\n",
       "      <td>14.389836</td>\n",
       "    </tr>\n",
       "    <tr>\n",
       "      <td>3</td>\n",
       "      <td>1.0</td>\n",
       "      <td>0.0</td>\n",
       "      <td>0.0</td>\n",
       "      <td>0.0</td>\n",
       "      <td>1.0</td>\n",
       "      <td>1.0</td>\n",
       "      <td>1.0</td>\n",
       "      <td>1.0</td>\n",
       "      <td>0.0</td>\n",
       "      <td>0.0</td>\n",
       "      <td>H_4.h5</td>\n",
       "      <td>P_4.h5</td>\n",
       "      <td>9.007951</td>\n",
       "    </tr>\n",
       "    <tr>\n",
       "      <td>4</td>\n",
       "      <td>1.0</td>\n",
       "      <td>0.0</td>\n",
       "      <td>1.0</td>\n",
       "      <td>1.0</td>\n",
       "      <td>0.0</td>\n",
       "      <td>1.0</td>\n",
       "      <td>0.0</td>\n",
       "      <td>0.0</td>\n",
       "      <td>1.0</td>\n",
       "      <td>0.0</td>\n",
       "      <td>H_5.h5</td>\n",
       "      <td>P_5.h5</td>\n",
       "      <td>9.732334</td>\n",
       "    </tr>\n",
       "  </tbody>\n",
       "</table>\n",
       "</div>"
      ],
      "text/plain": [
       "   User1  User2  User3  User4  User5  User6  User7  User8  User9  User10  \\\n",
       "0    0.0    1.0    0.0    0.0    1.0    1.0    1.0    0.0    0.0     1.0   \n",
       "1    1.0    1.0    0.0    1.0    0.0    0.0    0.0    1.0    0.0     1.0   \n",
       "2    1.0    0.0    0.0    1.0    1.0    1.0    1.0    0.0    0.0     0.0   \n",
       "3    1.0    0.0    0.0    0.0    1.0    1.0    1.0    1.0    0.0     0.0   \n",
       "4    1.0    0.0    1.0    1.0    0.0    1.0    0.0    0.0    1.0     0.0   \n",
       "\n",
       "        H       P   sum_rate  \n",
       "0  H_1.h5  P_1.h5  19.136739  \n",
       "1  H_2.h5  P_2.h5  23.254066  \n",
       "2  H_3.h5  P_3.h5  14.389836  \n",
       "3  H_4.h5  P_4.h5   9.007951  \n",
       "4  H_5.h5  P_5.h5   9.732334  "
      ]
     },
     "execution_count": 57,
     "metadata": {},
     "output_type": "execute_result"
    }
   ],
   "source": [
    "snr3_df.head()"
   ]
  },
  {
   "cell_type": "code",
   "execution_count": 58,
   "metadata": {},
   "outputs": [],
   "source": [
    "snr4_df['sum_rate'] = snr4_df.apply(sum_rate, axis = 1)"
   ]
  },
  {
   "cell_type": "code",
   "execution_count": 59,
   "metadata": {},
   "outputs": [
    {
     "name": "stdout",
     "output_type": "stream",
     "text": [
      "RMSE of the sum rate on the test set is: 8.24\n",
      "MAPE of the sum rate on the test set is: 29.94\n"
     ]
    }
   ],
   "source": [
    "from sklearn.metrics import mean_squared_error\n",
    "rmse = np.sqrt(mean_squared_error(test_df['sum_rate'],snr4_df['sum_rate']))\n",
    "mape = np.mean(np.abs((test_df['sum_rate'] - snr4_df['sum_rate']) / test_df['sum_rate'])) * 100\n",
    "print('RMSE of the sum rate on the test set is:', round(rmse,2))\n",
    "print('MAPE of the sum rate on the test set is:', round(mape,2))"
   ]
  },
  {
   "cell_type": "code",
   "execution_count": null,
   "metadata": {},
   "outputs": [],
   "source": []
  }
 ],
 "metadata": {
  "kernelspec": {
   "display_name": "Python 3",
   "language": "python",
   "name": "python3"
  },
  "language_info": {
   "codemirror_mode": {
    "name": "ipython",
    "version": 3
   },
   "file_extension": ".py",
   "mimetype": "text/x-python",
   "name": "python",
   "nbconvert_exporter": "python",
   "pygments_lexer": "ipython3",
   "version": "3.7.4"
  }
 },
 "nbformat": 4,
 "nbformat_minor": 4
}
